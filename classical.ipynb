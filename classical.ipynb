{
 "cells": [
  {
   "cell_type": "code",
   "execution_count": null,
   "metadata": {},
   "outputs": [],
   "source": [
    "import torch\n",
    "import torch.nn as nn\n",
    "from torch.utils.data import TensorDataset, DataLoader\n",
    "import numpy as np\n",
    "import matplotlib.pyplot as plt\n",
    "from utilities import train_model\n",
    "\n",
    "device = torch.device(\"cuda:0\" if torch.cuda.is_available() else \"cpu\")\n",
    "EPOCHS = 30\n",
    "BATCH_SIZE = 16\n",
    "\n",
    "TRAIN_TEST_SPLIT = 0.78\n",
    "MIN = 1\n",
    "TARGET = 'target.csv'\n",
    "FILE_NAME = '0.csv'\n",
    "FILE_NAME1 = '1.csv'\n",
    "FILE_NAME2 = '2.csv'\n",
    "FILE_NAME3 = '3.csv'\n",
    "\n",
    "\n",
    "def readfile(file_name):\n",
    "    file = open(file_name, 'r', encoding='utf-8')\n",
    "    next(file)\n",
    "    data = []\n",
    "    for line in (file):\n",
    "        values = line.split(',')\n",
    "        data.append(float(values[0]))\n",
    "    file.close()\n",
    "    return np.array(data, dtype=np.float32)\n",
    "\n",
    "# Read data and split up into train and test data.\n",
    "sales = readfile(TARGET)\n",
    "zero = readfile(FILE_NAME)\n",
    "um = readfile(FILE_NAME1)\n",
    "dois = readfile(FILE_NAME2)\n",
    "tres = readfile(FILE_NAME3)\n",
    "\n",
    "\n",
    "months = len(sales)\n",
    "split = int(months * TRAIN_TEST_SPLIT)\n",
    "\n",
    "train_sales = sales[0:split]\n",
    "test_sales = sales[split:]\n",
    "\n",
    "train_sales0 = zero[0:split]\n",
    "test_sales0 = zero[split:]\n",
    "\n",
    "train_sales1 = um[0:split]\n",
    "test_sales1 = um[split:]\n",
    "\n",
    "train_sales2 = dois[0:split]\n",
    "test_sales2 = dois[split:]\n",
    "\n",
    "train_sales3 = tres[0:split]\n",
    "test_sales3 = tres[split:]"
   ]
  },
  {
   "cell_type": "code",
   "execution_count": null,
   "metadata": {
    "tags": []
   },
   "outputs": [],
   "source": [
    "test_sales"
   ]
  },
  {
   "cell_type": "code",
   "execution_count": null,
   "metadata": {},
   "outputs": [],
   "source": [
    "# Plot dataset\n",
    "x = range(len(sales))\n",
    "plt.plot(x, sales, 'r-', label='car sales')\n",
    "plt.title('Sales')\n",
    "#plt.axis('')\n",
    "plt.xlabel('Safra')\n",
    "plt.ylabel('Target')\n",
    "plt.legend()\n",
    "plt.show()"
   ]
  },
  {
   "cell_type": "code",
   "execution_count": null,
   "metadata": {
    "tags": []
   },
   "outputs": [],
   "source": [
    "print(test_sales[MIN:])\n",
    "print(test_sales[MIN-1:-1])"
   ]
  },
  {
   "cell_type": "code",
   "execution_count": null,
   "metadata": {},
   "outputs": [],
   "source": [
    "# Plot naive prediction\n",
    "test_output = test_sales[MIN:]\n",
    "naive_prediction = test_sales[MIN-1:-1]\n",
    "x = range(len(test_output))\n",
    "plt.plot(x, test_output, 'g-', label='Valores reais')\n",
    "plt.plot(x, naive_prediction, 'm-', label='Previsão ingênua')\n",
    "plt.title('Venda de carros')\n",
    "#plt.axis([0, len(test_output), 9500, 13000.0])\n",
    "plt.xlabel('Safra')\n",
    "plt.ylabel('Venda de carros mensal')\n",
    "plt.legend()\n",
    "plt.show()"
   ]
  },
  {
   "cell_type": "code",
   "execution_count": null,
   "metadata": {
    "tags": []
   },
   "outputs": [],
   "source": [
    "test_sales[MIN:]"
   ]
  },
  {
   "cell_type": "code",
   "execution_count": null,
   "metadata": {},
   "outputs": [],
   "source": [
    "# Standardize train and test data.\n",
    "# Use only training seasons to compute mean and stddev.\n",
    "mean = np.mean(train_sales)\n",
    "stddev = np.std(train_sales)\n",
    "train_sales_std = (train_sales - mean)/stddev\n",
    "test_sales_std = (test_sales - mean)/stddev\n",
    "\n",
    "mean0 = np.mean(train_sales0)\n",
    "stddev0 = np.std(train_sales0)\n",
    "train_sales_std0 = (train_sales0 - mean0)/stddev0\n",
    "test_sales_std0 = (test_sales0 - mean0)/stddev0\n",
    "\n",
    "mean1 = np.mean(train_sales1)\n",
    "stddev1 = np.std(train_sales1)\n",
    "train_sales_std1 = (train_sales1 - mean1)/stddev1\n",
    "test_sales_std1 = (test_sales1 - mean1)/stddev1\n",
    "\n",
    "mean2 = np.mean(train_sales2)\n",
    "stddev2 = np.std(train_sales2)\n",
    "train_sales_std2 = (train_sales2 - mean2)/stddev2\n",
    "test_sales_std2 = (test_sales2 - mean2)/stddev2\n",
    "\n",
    "mean3 = np.mean(train_sales3)\n",
    "stddev3 = np.std(train_sales3)\n",
    "train_sales_std3 = (train_sales3 - mean3)/stddev3\n",
    "test_sales_std3 = (test_sales3 - mean3)/stddev3"
   ]
  },
  {
   "cell_type": "code",
   "execution_count": null,
   "metadata": {},
   "outputs": [],
   "source": [
    "# Create train examples.valores\n",
    "train_months = len(train_sales)\n",
    "train_X = np.zeros((train_months-MIN, train_months-1, 4), dtype=np.float32)\n",
    "train_y = np.zeros((train_months-MIN, 1), dtype=np.float32)\n",
    "for i in range(0, train_months-MIN):\n",
    "    train_X[i, -(i+MIN):, 0] = train_sales_std[0:i+MIN]\n",
    "    train_X[i, -(i+MIN):, 1] = train_sales_std0[0:i+MIN]\n",
    "    train_X[i, -(i+MIN):, 2] = train_sales_std1[0:i+MIN]\n",
    "    train_X[i, -(i+MIN):, 3] = train_sales_std2[0:i+MIN]\n",
    "    #train_X[i, -(i+MIN):, 4] = train_sales_std3[0:i+MIN]\n",
    "    train_y[i, 0] = train_sales_std[i+MIN]\n",
    "\n",
    "# Create test examples.\n",
    "test_months = len(test_sales)\n",
    "test_X = np.zeros((test_months-MIN, test_months-1, 4), dtype=np.float32)\n",
    "test_y = np.zeros((test_months-MIN, 1), dtype=np.float32)\n",
    "for i in range(0, test_months-MIN):\n",
    "    test_X[i, -(i+MIN):, 0] = test_sales_std[0:i+MIN]\n",
    "    test_X[i, -(i+MIN):, 1] = test_sales_std0[0:i+MIN]\n",
    "    test_X[i, -(i+MIN):, 2] = test_sales_std1[0:i+MIN]\n",
    "    test_X[i, -(i+MIN):, 3] = test_sales_std2[0:i+MIN]\n",
    "    #test_X[i, -(i+MIN):, 4] = test_sales_std3[0:i+MIN]\n",
    "    test_y[i, 0] = test_sales_std[i+MIN]\n",
    "\n",
    "\n",
    "# Create Dataset objects.\n",
    "trainset = TensorDataset(torch.from_numpy(train_X).clone(), torch.from_numpy(train_y))\n",
    "testset = TensorDataset(torch.from_numpy(test_X).clone(), torch.from_numpy(test_y))"
   ]
  },
  {
   "cell_type": "code",
   "execution_count": null,
   "metadata": {},
   "outputs": [],
   "source": [
    "# Custom layer that retrieves only last time step from RNN output.\n",
    "class LastTimestep(nn.Module):\n",
    "    def forward(self, inputs):\n",
    "        return inputs[1][0]\n",
    "\n",
    "# Create RNN model\n",
    "model = nn.Sequential(\n",
    "    nn.RNN(4, 128, nonlinearity='relu', batch_first=True),\n",
    "    LastTimestep(),\n",
    "    nn.Linear(128, 1)\n",
    ")\n",
    "\n",
    "# Loss function and optimizer.\n",
    "optimizer = torch.optim.Adam(model.parameters())\n",
    "loss_function = nn.MSELoss()\n",
    "\n",
    "# Train model.\n",
    "train_model(model, device, EPOCHS, BATCH_SIZE, trainset, testset,\n",
    "            optimizer, loss_function, 'mae')"
   ]
  },
  {
   "cell_type": "code",
   "execution_count": null,
   "metadata": {},
   "outputs": [],
   "source": [
    "mae = [0.2349,0.0134,0.0026,0.0015,0.0014,0.0014,0.0010,0.0010,0.0009,0.0008,0.0008,0.0010,0.0010,0.0007,0.0007,0.0009,0.0007,0.0006,0.0006,0.0005,0.0005,0.0006,0.0006,0.0005,0.0005,0.0006,0.0005,0.0006,0.0006,0.0005]\n",
    "val_mae = [0.0671,0.0069,0.0020,0.0015,0.0014,0.0013,0.0010,0.0008,0.0008,0.0008,0.0007,0.0007,0.0007,0.0006,0.0006,0.0013,0.0004,0.0007,0.0006,0.0005,0.0005,0.0005,0.0007,0.0006,0.0007,0.0004,0.0006,0.0005,0.0004,0.0005]\n",
    "epoca = []\n",
    "for i in range(1,31):\n",
    "    epoca.append(i)"
   ]
  },
  {
   "cell_type": "code",
   "execution_count": null,
   "metadata": {},
   "outputs": [],
   "source": [
    "plt.plot(epoca, mae, 'g-',\n",
    "         label='loss')\n",
    "plt.plot(epoca, val_mae, 'm-',\n",
    "         label='val_loss')\n",
    "#plt.plot(epoca, val_mae,\n",
    "#         'k-', label='Dados reais')\n",
    "#plt.title('Loss', fontsize=15)\n",
    "#plt.axis([0, 13, 0, 18000.0])\n",
    "plt.xlabel('Epoca', fontsize=15)\n",
    "plt.ylabel('MAE', fontsize=15) \n",
    "plt.legend()\n",
    "plt.savefig('maesenoclassico.pdf')\n",
    "plt.show()"
   ]
  },
  {
   "cell_type": "code",
   "execution_count": null,
   "metadata": {},
   "outputs": [],
   "source": [
    "# Create naive prediction based on standardized data.\n",
    "test_output = test_sales_std[MIN:]\n",
    "naive_prediction = test_sales_std[MIN-1:-1]\n",
    "mean_squared_error = np.mean(np.square(naive_prediction\n",
    "                                       - test_output))\n",
    "mean_abs_error = np.mean(np.abs(naive_prediction\n",
    "                                - test_output))\n",
    "print('naive test mse: ', mean_squared_error)\n",
    "print('naive test mean abs: ', mean_abs_error)\n"
   ]
  },
  {
   "cell_type": "code",
   "execution_count": null,
   "metadata": {},
   "outputs": [],
   "source": [
    "# Use trained model to predict the test data\n",
    "inputs = torch.from_numpy(test_X)\n",
    "inputs = inputs.to(device)\n",
    "outputs = model(inputs)\n",
    "predicted_test = outputs.cpu().detach().numpy()\n",
    "\n",
    "# De-standardize output.\n",
    "predicted_test = np.reshape(predicted_test,\n",
    "                            (len(predicted_test)))\n",
    "predicted_test = predicted_test * stddev + mean\n",
    "\n",
    "# Plot test prediction.\n",
    "x = range(len(test_sales)-MIN)\n",
    "plt.plot(x, predicted_test, 'g-',\n",
    "         label='Previsão')\n",
    "plt.plot(x, test_sales[-(len(test_sales)-MIN):],\n",
    "         'm-', label='Valores reais')\n",
    "plt.title('Experimento clássico 1', fontsize = 14)\n",
    "plt.axis([-1, 11, 2000, 16000.0])\n",
    "plt.xlabel('Mês', fontsize = 14)\n",
    "plt.ylabel('target', fontsize = 14)\n",
    "plt.legend()\n",
    "plt.savefig('comparacaoclassico.pdf')\n",
    "plt.show()"
   ]
  },
  {
   "cell_type": "code",
   "execution_count": null,
   "metadata": {},
   "outputs": [],
   "source": [
    "# Plotar a função original\n",
    "\n",
    "x = np.linspace(0, 199, 199)\n",
    "\n",
    "# plt.plot(x, y_predict, label='Função Original')\n",
    "\n",
    "# Deslocar a função horizontalmente\n",
    "def funcao_deslocada(y_predict, deslocamento):\n",
    "    return y_predict + deslocamento\n",
    "\n",
    "# Especificar o deslocamento desejado\n",
    "deslocamento_horizontal = 500\n",
    "\n",
    "# Plotar a função deslocada\n",
    "plt.plot(train_sales0, 'k-', label='Treinamento')\n",
    "#plt.plot(x+799, test_sales, 'k-', label='Treinamento')\n",
    "plt.plot(x+800, predicted_test, 'g-', label=f'Previsão')\n",
    "\n",
    "#plt.plot(x-500, funcao_deslocada(y_predict, deslocamento_horizontal), label=f'Função Deslocada ({deslocamento_horizontal} rad)')\n",
    "novos_rotulos_x = [0, 200, 400, 600, 800, 1000]\n",
    "plt.xticks(novos_rotulos_x)\n",
    "\n",
    "# Adicionar legendas e título\n",
    "plt.legend()\n",
    "plt.title('f(x) = sen(x)', fontsize=14)\n",
    "plt.xlabel('x', fontsize=14)\n",
    "plt.ylabel('sen(x)', fontsize=14)\n",
    "plt.savefig('seno-classico.pdf')\n",
    "# Exibir o gráfico\n",
    "plt.show()"
   ]
  },
  {
   "cell_type": "code",
   "execution_count": null,
   "metadata": {},
   "outputs": [],
   "source": [
    "predicted_test"
   ]
  },
  {
   "cell_type": "code",
   "execution_count": null,
   "metadata": {},
   "outputs": [],
   "source": [
    "test_sales[-(len(test_sales)-MIN):]"
   ]
  }
 ],
 "metadata": {
  "kernelspec": {
   "display_name": "Python 3 (ipykernel)",
   "language": "python",
   "name": "python3"
  },
  "language_info": {
   "codemirror_mode": {
    "name": "ipython",
    "version": 3
   },
   "file_extension": ".py",
   "mimetype": "text/x-python",
   "name": "python",
   "nbconvert_exporter": "python",
   "pygments_lexer": "ipython3",
   "version": "3.9.12"
  }
 },
 "nbformat": 4,
 "nbformat_minor": 4
}
