{
 "cells": [
  {
   "cell_type": "code",
   "execution_count": null,
   "id": "27a61256-82b6-4b98-9bed-34bcfdb8e98d",
   "metadata": {},
   "outputs": [],
   "source": [
    "import pandas as pd\n",
    "import pennylane.numpy as np\n",
    "import pennylane as qml\n",
    "\n",
    "\n",
    "from silence_tensorflow import silence_tensorflow\n",
    "#silence_tensorflow()\n",
    "import tensorflow as tf\n",
    "\n",
    "# Hide GPU from visible devices\n",
    "tf.config.set_visible_devices([], 'GPU')\n",
    "\n",
    "from tensorflow.keras.models import Sequential\n",
    "from tensorflow.keras.layers import Dense, Activation\n",
    "from tensorflow.keras import optimizers\n",
    "from tensorflow.keras import activations\n",
    "from tensorflow.keras.callbacks import EarlyStopping\n",
    "from tensorflow.keras.callbacks import ReduceLROnPlateau\n",
    "from sklearn.model_selection import train_test_split\n",
    "from sklearn.preprocessing import StandardScaler"
   ]
  },
  {
   "cell_type": "code",
   "execution_count": null,
   "id": "cbddcd74-1672-4727-92f7-d8c64c8a859b",
   "metadata": {},
   "outputs": [],
   "source": [
    "dataframe = pd.read_csv(r'4features-final.csv')\n",
    "dataset = dataframe.values\n",
    "\n",
    "\n",
    "X=dataset[:,1:5]\n",
    "Y=dataset[:,5:]\n",
    "\n",
    "scaler = StandardScaler()\n",
    "StdScaler=scaler.fit(X)\n",
    "Stdmean=scaler.mean_\n",
    "X=scaler.transform(X)\n",
    "\n",
    "scaler = StandardScaler()\n",
    "StdScaler2=scaler.fit(Y)\n",
    "Stdmean2=scaler.mean_\n",
    "Y=scaler.transform(Y)\n",
    "\n",
    "months = len(Y)\n",
    "TRAIN_TEST_SPLIT = 0.78\n",
    "\n",
    "split = split = int(months * TRAIN_TEST_SPLIT)\n",
    "TrainX = X[0:split]\n",
    "TestX = X[split:]\n",
    "\n",
    "TrainY = Y[0:split]\n",
    "TestY = Y[split:]\n",
    "\n",
    "\n",
    "print(\"Len(Train):\",len(TrainX))\n",
    "print(\"Len(Test):\",len(TestX))"
   ]
  },
  {
   "cell_type": "code",
   "execution_count": null,
   "id": "f4bf580c-37a0-48a3-97a5-8618b7b43b6b",
   "metadata": {},
   "outputs": [],
   "source": [
    "def H_layer(n_qubits):\n",
    "    for idx in range(n_qubits):\n",
    "        qml.Hadamard(wires=idx)\n",
    "\n",
    "def Data_AngleEmbedding_layer(inputs):\n",
    "    qml.templates.AngleEmbedding(inputs,rotation='Y', wires=range(n_qubits))\n",
    "\n",
    "def RY_layer(w):\n",
    "    print(w.shape)\n",
    "    for idx, element in enumerate(w):\n",
    "        qml.RY(element, wires=idx)\n",
    "\n",
    "def ROT_layer(w):\n",
    "    for i in range(4):\n",
    "        qml.Rot(*w[i],wires=i)\n",
    "\n",
    "def strong_entangling_layer(nqubits):\n",
    "    qml.CNOT(wires=[0,1])\n",
    "    qml.CNOT(wires=[1,2])\n",
    "    qml.CNOT(wires=[2,3])\n",
    "    qml.CNOT(wires=[3,0])\n",
    "    \n",
    "def entangling_layer(nqubits):\n",
    "    for i in range(0, nqubits - 1, 2): \n",
    "        qml.CNOT(wires=[i, i + 1])\n",
    "    for i in range(1, nqubits - 1, 2):  \n",
    "        qml.CNOT(wires=[i, i + 1])"
   ]
  },
  {
   "cell_type": "code",
   "execution_count": null,
   "id": "b27f73f6-fd74-4535-af8c-2ec1e66b0872",
   "metadata": {},
   "outputs": [],
   "source": [
    "n_qubits = 4\n",
    "n_layers = 1\n",
    "\n",
    "dev = qml.device('default.qubit', wires=n_qubits)\n",
    "@qml.qnode(dev)\n",
    "def qnode(inputs, weights_1):\n",
    "    H_layer(n_qubits)\n",
    "    Data_AngleEmbedding_layer(inputs)\n",
    "    for k in range(n_layers):\n",
    "        entangling_layer(n_qubits)\n",
    "        ROT_layer(weights_1[k])\n",
    "    return [qml.expval(qml.PauliZ(wires=i)) for i in range(n_qubits)]"
   ]
  },
  {
   "cell_type": "code",
   "execution_count": null,
   "id": "c2e3ed04-d20e-443f-95af-89449cf0b2d8",
   "metadata": {},
   "outputs": [],
   "source": [
    "weight_shapes = {\"weights_1\": (n_layers,n_qubits,3)}\n",
    "qlayer = qml.qnn.KerasLayer(qnode, weight_shapes, output_dim=n_qubits)\n",
    "Activation=tf.keras.layers.Activation(activations.linear)\n",
    "clayer_2 = tf.keras.layers.Dense(1,kernel_initializer='normal')\n",
    "model = tf.keras.models.Sequential([qlayer,Activation, clayer_2])\n",
    "opt = tf.keras.optimizers.Adam(learning_rate=0.1)\n",
    "model.compile(opt, loss=\"mae\")"
   ]
  },
  {
   "cell_type": "code",
   "execution_count": null,
   "id": "389970c3-cd97-45c7-ba78-fe085c27e337",
   "metadata": {},
   "outputs": [],
   "source": [
    "es=EarlyStopping(monitor='val_loss', min_delta=0, patience=6, verbose=1, mode='auto', baseline=None, restore_best_weights=True)\n",
    "re=ReduceLROnPlateau(monitor='val_loss', factor=0.1, patience=3, verbose=1, mode='min', min_lr=0.00001)\n",
    "fitting = model.fit(TrainX, TrainY, epochs=30, batch_size=1, validation_split=0.1, callbacks=[re], verbose=1)"
   ]
  },
  {
   "cell_type": "code",
   "execution_count": null,
   "id": "dede62fc-d7ce-46e7-bbc0-40aa10ce873a",
   "metadata": {},
   "outputs": [],
   "source": [
    "y_predict=model.predict(TestX,verbose=1)\n",
    "y_predict=y_predict.T\n",
    "y_predict=y_predict[0]"
   ]
  },
  {
   "cell_type": "code",
   "execution_count": null,
   "id": "c6be621b-d828-484f-9b95-a8f007c4eb0f",
   "metadata": {},
   "outputs": [],
   "source": [
    "newTestY = scaler.inverse_transform(TestY)\n",
    "newy_predict = scaler.inverse_transform(y_predict.reshape(-1, 1))"
   ]
  },
  {
   "cell_type": "code",
   "execution_count": null,
   "id": "56984318-27cc-4979-a48d-322f27ab8744",
   "metadata": {},
   "outputs": [],
   "source": [
    "from sklearn import metrics\n",
    "print('Mean Absolute Error:', metrics.mean_absolute_error(newTestY, newy_predict))"
   ]
  },
  {
   "cell_type": "code",
   "execution_count": null,
   "id": "33d5d7de-a9bf-4500-b010-b44f13e3058e",
   "metadata": {},
   "outputs": [],
   "source": [
    "import matplotlib.pyplot as plt\n",
    "\n",
    "plt.plot(newTestY, 'm-', label='Dados Reais')\n",
    "plt.plot(newy_predict, 'g-', label='Previsão')\n",
    "plt.title('Experimento 1 com 4 variáveis e 1 camada')\n",
    "plt.axis([0, 12, 6000, 16000])\n",
    "plt.xlabel('Mês')\n",
    "plt.ylabel('Target')\n",
    "plt.legend()\n",
    "plt.savefig('Experimento 1 com 4 variáveis e 1 camada')\n",
    "plt.show()"
   ]
  },
  {
   "cell_type": "code",
   "execution_count": null,
   "id": "91f6ed75-4057-431c-8834-ed7618d8b405",
   "metadata": {},
   "outputs": [],
   "source": [
    "newTestY"
   ]
  },
  {
   "cell_type": "code",
   "execution_count": null,
   "id": "13535aa4-b5c8-463c-aa14-67d35e0611be",
   "metadata": {},
   "outputs": [],
   "source": [
    "newy_predict"
   ]
  },
  {
   "cell_type": "code",
   "execution_count": null,
   "id": "b5f13700-4628-41b4-bd8b-a3d8185acee2",
   "metadata": {},
   "outputs": [],
   "source": [
    "plt.plot(fitting.epoch, fitting.history.get('loss'), 'm-', label='loss')\n",
    "plt.plot(fitting.epoch, fitting.history.get('val_loss'), 'g-', label='val_loss')\n",
    "# plt.plot(newy_predict, 'g-', label='Previsão')\n",
    "plt.title('MAE')\n",
    "#plt.axis([-2, 10, -10.0, 10.0])\n",
    "plt.xlabel('Mês')\n",
    "plt.ylabel('Target')\n",
    "plt.legend()\n",
    "plt.show()"
   ]
  },
  {
   "cell_type": "code",
   "execution_count": null,
   "id": "82cd1f33-fce5-4ee2-aa29-7caa62c625be",
   "metadata": {},
   "outputs": [],
   "source": [
    "print(fitting.history.get('loss'))"
   ]
  },
  {
   "cell_type": "code",
   "execution_count": null,
   "id": "3698340e-6480-4c8c-ae9f-4550ee1a78c6",
   "metadata": {},
   "outputs": [],
   "source": [
    "fitting.history.get('val_loss')"
   ]
  },
  {
   "cell_type": "code",
   "execution_count": null,
   "id": "4c07cd64-a1f2-4677-b11b-6602be582997",
   "metadata": {},
   "outputs": [],
   "source": []
  }
 ],
 "metadata": {
  "kernelspec": {
   "display_name": "Python 3 (ipykernel)",
   "language": "python",
   "name": "python3"
  },
  "language_info": {
   "codemirror_mode": {
    "name": "ipython",
    "version": 3
   },
   "file_extension": ".py",
   "mimetype": "text/x-python",
   "name": "python",
   "nbconvert_exporter": "python",
   "pygments_lexer": "ipython3",
   "version": "3.9.12"
  }
 },
 "nbformat": 4,
 "nbformat_minor": 5
}
